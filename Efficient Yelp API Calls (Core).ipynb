{
 "cells": [
  {
   "cell_type": "code",
   "execution_count": 1,
   "id": "fc9a95fa",
   "metadata": {},
   "outputs": [],
   "source": [
    "# Standard Imports\n",
    "import numpy as np\n",
    "import pandas as pd\n",
    "import matplotlib.pyplot as plt\n",
    "import seaborn as sns\n",
    "# Additional Imports\n",
    "import os, json, math, time\n",
    "from yelpapi import YelpAPI\n",
    "from tqdm.notebook import tqdm_notebook"
   ]
  },
  {
   "cell_type": "code",
   "execution_count": 3,
   "id": "0b18c64e",
   "metadata": {},
   "outputs": [],
   "source": [
    "# Load API Credentials\n",
    "with open('/Users/lbodden/.secret/yelp_api.json') as f:   #use your path here!\n",
    "    login = json.load(f)\n",
    "# Instantiate YelpAPI Variable\n",
    "yelp_api = YelpAPI(login['api-key'], timeout_s=5.0)\n"
   ]
  },
  {
   "cell_type": "code",
   "execution_count": 4,
   "id": "e778a0a7",
   "metadata": {},
   "outputs": [],
   "source": [
    "# set our API call parameters \n",
    "LOCATION = 'Bronx,NY'\n",
    "TERM = 'Pizza'"
   ]
  },
  {
   "cell_type": "code",
   "execution_count": 5,
   "id": "8768703d",
   "metadata": {},
   "outputs": [
    {
     "data": {
      "text/plain": [
       "'Data/results_in_progress_NY_pizza.json'"
      ]
     },
     "execution_count": 5,
     "metadata": {},
     "output_type": "execute_result"
    }
   ],
   "source": [
    "JSON_FILE = \"Data/results_in_progress_NY_pizza.json\"\n",
    "JSON_FILE\n"
   ]
  },
  {
   "cell_type": "code",
   "execution_count": 6,
   "id": "f74f279f",
   "metadata": {},
   "outputs": [
    {
     "name": "stdout",
     "output_type": "stream",
     "text": [
      "[i] Data/results_in_progress_NY_pizza.json not found. Saving empty list to file.\n"
     ]
    }
   ],
   "source": [
    "## Check if JSON_FILE exists\n",
    "file_exists = os.path.isfile(JSON_FILE)\n",
    "## If it does not exist: \n",
    "if file_exists == False:\n",
    "    \n",
    "    ## CREATE ANY NEEDED FOLDERS\n",
    "    # Get the Folder Name only\n",
    "    folder = os.path.dirname(JSON_FILE)\n",
    "    ## If JSON_FILE included a folder:\n",
    "    if len(folder)>0:\n",
    "        # create the folder\n",
    "        os.makedirs(folder,exist_ok=True)\n",
    "        \n",
    "        \n",
    "    ## INFORM USER AND SAVE EMPTY LIST\n",
    "    print(f\"[i] {JSON_FILE} not found. Saving empty list to file.\")\n",
    "    \n",
    "    \n",
    "    ## save the first page of results\n",
    "    with open(JSON_FILE,'w') as f:\n",
    "        json.dump([],f)  \n",
    "## If it exists, inform user\n",
    "else:\n",
    "    print(f\"[i] {JSON_FILE} already exists.\")"
   ]
  },
  {
   "cell_type": "code",
   "execution_count": 7,
   "id": "24d7aa83",
   "metadata": {},
   "outputs": [
    {
     "name": "stdout",
     "output_type": "stream",
     "text": [
      "- 0 previous results found.\n"
     ]
    }
   ],
   "source": [
    "## Load previous results and use len of results for offset\n",
    "with open(JSON_FILE,'r') as f:\n",
    "    previous_results = json.load(f)\n",
    "    \n",
    "## set offset based on previous results\n",
    "n_results = len(previous_results)\n",
    "print(f'- {n_results} previous results found.')"
   ]
  },
  {
   "cell_type": "code",
   "execution_count": 8,
   "id": "a2f0c26d",
   "metadata": {},
   "outputs": [
    {
     "data": {
      "text/plain": [
       "dict_keys(['businesses', 'total', 'region'])"
      ]
     },
     "execution_count": 8,
     "metadata": {},
     "output_type": "execute_result"
    }
   ],
   "source": [
    "# use our yelp_api variable's search_query method to perform our API call\n",
    "results = yelp_api.search_query(location=LOCATION,\n",
    "                                term=TERM,\n",
    "                               offset=n_results)\n",
    "results.keys()"
   ]
  },
  {
   "cell_type": "code",
   "execution_count": 9,
   "id": "53eeb5f7",
   "metadata": {},
   "outputs": [
    {
     "data": {
      "text/plain": [
       "7200"
      ]
     },
     "execution_count": 9,
     "metadata": {},
     "output_type": "execute_result"
    }
   ],
   "source": [
    "## How many results total?\n",
    "total_results = results['total']\n",
    "total_results"
   ]
  },
  {
   "cell_type": "code",
   "execution_count": 10,
   "id": "87f167a3",
   "metadata": {},
   "outputs": [
    {
     "data": {
      "text/plain": [
       "20"
      ]
     },
     "execution_count": 10,
     "metadata": {},
     "output_type": "execute_result"
    }
   ],
   "source": [
    "## How many did we get the details for?\n",
    "results_per_page = len(results['businesses'])\n",
    "results_per_page"
   ]
  },
  {
   "cell_type": "code",
   "execution_count": 11,
   "id": "cab868bb",
   "metadata": {},
   "outputs": [
    {
     "data": {
      "text/plain": [
       "360"
      ]
     },
     "execution_count": 11,
     "metadata": {},
     "output_type": "execute_result"
    }
   ],
   "source": [
    "# Import additional packages for controlling our loop\n",
    "import time, math\n",
    "# Use math.ceil to round up for the total number of pages of results.\n",
    "n_pages = math.ceil((results['total']-n_results)/ results_per_page)\n",
    "n_pages\n"
   ]
  },
  {
   "cell_type": "code",
   "execution_count": 12,
   "id": "ea7ea27d",
   "metadata": {},
   "outputs": [],
   "source": [
    "# join new results with old list with extend and save to file\n",
    "previous_results.extend(results['businesses'])  \n",
    "with open(JSON_FILE,'w') as f:\n",
    "     json.dump(previous_results,f)"
   ]
  },
  {
   "cell_type": "code",
   "execution_count": 13,
   "id": "ac06eaca",
   "metadata": {},
   "outputs": [
    {
     "data": {
      "application/vnd.jupyter.widget-view+json": {
       "model_id": "b93b61b81d7e425c98b00a0c8e6e0145",
       "version_major": 2,
       "version_minor": 0
      },
      "text/plain": [
       "  0%|          | 0/360 [00:00<?, ?it/s]"
      ]
     },
     "metadata": {},
     "output_type": "display_data"
    }
   ],
   "source": [
    "from tqdm.notebook import tqdm_notebook\n",
    "import time\n",
    "for i in tqdm_notebook(range(n_pages)):\n",
    "    # adds 200 ms pause\n",
    "    time.sleep(.2) "
   ]
  },
  {
   "cell_type": "code",
   "execution_count": 14,
   "id": "60b26358",
   "metadata": {},
   "outputs": [
    {
     "data": {
      "application/vnd.jupyter.widget-view+json": {
       "model_id": "80864ebdebf140e7a657c4f40e9e369d",
       "version_major": 2,
       "version_minor": 0
      },
      "text/plain": [
       "  0%|          | 0/360 [00:00<?, ?it/s]"
      ]
     },
     "metadata": {},
     "output_type": "display_data"
    },
    {
     "ename": "YelpAPIError",
     "evalue": "VALIDATION_ERROR: Too many results requested, limit+offset must be <= 1000.",
     "output_type": "error",
     "traceback": [
      "\u001b[0;31m---------------------------------------------------------------------------\u001b[0m",
      "\u001b[0;31mYelpAPIError\u001b[0m                              Traceback (most recent call last)",
      "Cell \u001b[0;32mIn [14], line 9\u001b[0m\n\u001b[1;32m      7\u001b[0m n_results \u001b[38;5;241m=\u001b[39m \u001b[38;5;28mlen\u001b[39m(previous_results)\n\u001b[1;32m      8\u001b[0m \u001b[38;5;66;03m## use n_results as the OFFSET \u001b[39;00m\n\u001b[0;32m----> 9\u001b[0m results \u001b[38;5;241m=\u001b[39m \u001b[43myelp_api\u001b[49m\u001b[38;5;241;43m.\u001b[39;49m\u001b[43msearch_query\u001b[49m\u001b[43m(\u001b[49m\u001b[43mlocation\u001b[49m\u001b[38;5;241;43m=\u001b[39;49m\u001b[43mLOCATION\u001b[49m\u001b[43m,\u001b[49m\n\u001b[1;32m     10\u001b[0m \u001b[43m                                \u001b[49m\u001b[43mterm\u001b[49m\u001b[38;5;241;43m=\u001b[39;49m\u001b[43mTERM\u001b[49m\u001b[43m,\u001b[49m\u001b[43m \u001b[49m\n\u001b[1;32m     11\u001b[0m \u001b[43m                                \u001b[49m\u001b[43moffset\u001b[49m\u001b[38;5;241;43m=\u001b[39;49m\u001b[43mn_results\u001b[49m\u001b[43m)\u001b[49m\n\u001b[1;32m     13\u001b[0m \u001b[38;5;66;03m## append new results and save to file\u001b[39;00m\n\u001b[1;32m     14\u001b[0m previous_results\u001b[38;5;241m.\u001b[39mextend(results[\u001b[38;5;124m'\u001b[39m\u001b[38;5;124mbusinesses\u001b[39m\u001b[38;5;124m'\u001b[39m])\n",
      "File \u001b[0;32m/opt/homebrew/Caskroom/miniforge/base/envs/dojo-env/lib/python3.8/site-packages/yelpapi/yelpapi.py:234\u001b[0m, in \u001b[0;36mYelpAPI.search_query\u001b[0;34m(self, **kwargs)\u001b[0m\n\u001b[1;32m    230\u001b[0m \u001b[38;5;28;01mif\u001b[39;00m \u001b[38;5;129;01mnot\u001b[39;00m kwargs\u001b[38;5;241m.\u001b[39mget(\u001b[38;5;124m'\u001b[39m\u001b[38;5;124mlocation\u001b[39m\u001b[38;5;124m'\u001b[39m) \u001b[38;5;129;01mand\u001b[39;00m (\u001b[38;5;129;01mnot\u001b[39;00m kwargs\u001b[38;5;241m.\u001b[39mget(\u001b[38;5;124m'\u001b[39m\u001b[38;5;124mlatitude\u001b[39m\u001b[38;5;124m'\u001b[39m) \u001b[38;5;129;01mor\u001b[39;00m \u001b[38;5;129;01mnot\u001b[39;00m kwargs\u001b[38;5;241m.\u001b[39mget(\u001b[38;5;124m'\u001b[39m\u001b[38;5;124mlongitude\u001b[39m\u001b[38;5;124m'\u001b[39m)):\n\u001b[1;32m    231\u001b[0m     \u001b[38;5;28;01mraise\u001b[39;00m \u001b[38;5;167;01mValueError\u001b[39;00m(\u001b[38;5;124m'\u001b[39m\u001b[38;5;124mA valid location (parameter \u001b[39m\u001b[38;5;124m\"\u001b[39m\u001b[38;5;124mlocation\u001b[39m\u001b[38;5;124m\"\u001b[39m\u001b[38;5;124m) or latitude/longitude combination \u001b[39m\u001b[38;5;124m'\u001b[39m\n\u001b[1;32m    232\u001b[0m                      \u001b[38;5;124m'\u001b[39m\u001b[38;5;124m(parameters \u001b[39m\u001b[38;5;124m\"\u001b[39m\u001b[38;5;124mlatitude\u001b[39m\u001b[38;5;124m\"\u001b[39m\u001b[38;5;124m and \u001b[39m\u001b[38;5;124m\"\u001b[39m\u001b[38;5;124mlongitude\u001b[39m\u001b[38;5;124m\"\u001b[39m\u001b[38;5;124m) must be provided.\u001b[39m\u001b[38;5;124m'\u001b[39m)\n\u001b[0;32m--> 234\u001b[0m \u001b[38;5;28;01mreturn\u001b[39;00m \u001b[38;5;28;43mself\u001b[39;49m\u001b[38;5;241;43m.\u001b[39;49m\u001b[43m_query\u001b[49m\u001b[43m(\u001b[49m\u001b[43mSEARCH_API_URL\u001b[49m\u001b[43m,\u001b[49m\u001b[43m \u001b[49m\u001b[38;5;241;43m*\u001b[39;49m\u001b[38;5;241;43m*\u001b[39;49m\u001b[43mkwargs\u001b[49m\u001b[43m)\u001b[49m\n",
      "File \u001b[0;32m/opt/homebrew/Caskroom/miniforge/base/envs/dojo-env/lib/python3.8/site-packages/yelpapi/yelpapi.py:282\u001b[0m, in \u001b[0;36mYelpAPI._query\u001b[0;34m(self, url, **kwargs)\u001b[0m\n\u001b[1;32m    278\u001b[0m \u001b[38;5;66;03m# Yelp can return one of many different API errors, so check for one of them.\u001b[39;00m\n\u001b[1;32m    279\u001b[0m \u001b[38;5;66;03m# The Yelp Fusion API does not yet have a complete list of errors, but this is on the TODO list; see\u001b[39;00m\n\u001b[1;32m    280\u001b[0m \u001b[38;5;66;03m# https://github.com/Yelp/yelp-fusion/issues/95 for more info.\u001b[39;00m\n\u001b[1;32m    281\u001b[0m \u001b[38;5;28;01mif\u001b[39;00m \u001b[38;5;124m'\u001b[39m\u001b[38;5;124merror\u001b[39m\u001b[38;5;124m'\u001b[39m \u001b[38;5;129;01min\u001b[39;00m response_json:\n\u001b[0;32m--> 282\u001b[0m     \u001b[38;5;28;01mraise\u001b[39;00m YelpAPI\u001b[38;5;241m.\u001b[39mYelpAPIError(\u001b[38;5;124m'\u001b[39m\u001b[38;5;132;01m{}\u001b[39;00m\u001b[38;5;124m: \u001b[39m\u001b[38;5;132;01m{}\u001b[39;00m\u001b[38;5;124m'\u001b[39m\u001b[38;5;241m.\u001b[39mformat(response_json[\u001b[38;5;124m'\u001b[39m\u001b[38;5;124merror\u001b[39m\u001b[38;5;124m'\u001b[39m][\u001b[38;5;124m'\u001b[39m\u001b[38;5;124mcode\u001b[39m\u001b[38;5;124m'\u001b[39m],\n\u001b[1;32m    283\u001b[0m                                                response_json[\u001b[38;5;124m'\u001b[39m\u001b[38;5;124merror\u001b[39m\u001b[38;5;124m'\u001b[39m][\u001b[38;5;124m'\u001b[39m\u001b[38;5;124mdescription\u001b[39m\u001b[38;5;124m'\u001b[39m]))\n\u001b[1;32m    285\u001b[0m \u001b[38;5;66;03m# we got a good response, so return\u001b[39;00m\n\u001b[1;32m    286\u001b[0m \u001b[38;5;28;01mreturn\u001b[39;00m response_json\n",
      "\u001b[0;31mYelpAPIError\u001b[0m: VALIDATION_ERROR: Too many results requested, limit+offset must be <= 1000."
     ]
    }
   ],
   "source": [
    "for i in tqdm_notebook( range(1,n_pages+1)):\n",
    "    \n",
    "    ## Read in results in progress file and check the length\n",
    "    with open(JSON_FILE, 'r') as f:\n",
    "        previous_results = json.load(f)\n",
    "    ## save number of results for to use as offset\n",
    "    n_results = len(previous_results)\n",
    "    ## use n_results as the OFFSET \n",
    "    results = yelp_api.search_query(location=LOCATION,\n",
    "                                    term=TERM, \n",
    "                                    offset=n_results)\n",
    "    \n",
    "    ## append new results and save to file\n",
    "    previous_results.extend(results['businesses'])\n",
    "    \n",
    "    with open(JSON_FILE,'w') as f:\n",
    "        json.dump(previous_results,f)\n",
    "    \n",
    "    # add a 200ms pause\n",
    "    time.sleep(.2)"
   ]
  },
  {
   "cell_type": "code",
   "execution_count": 15,
   "id": "9d74e7e6",
   "metadata": {},
   "outputs": [
    {
     "data": {
      "text/plain": [
       "False"
      ]
     },
     "execution_count": 15,
     "metadata": {},
     "output_type": "execute_result"
    }
   ],
   "source": [
    "## delete file and confirm it no longer exits.\n",
    "os.remove(JSON_FILE)\n",
    "os.path.isfile(JSON_FILE)"
   ]
  },
  {
   "cell_type": "code",
   "execution_count": 16,
   "id": "cdaea022",
   "metadata": {},
   "outputs": [],
   "source": [
    "def create_json_file(JSON_FILE,  delete_if_exists=False):\n",
    "    \n",
    "    ## Check if JSON_FILE exists\n",
    "    file_exists = os.path.isfile(JSON_FILE)\n",
    "    \n",
    "    ## If it DOES exist:\n",
    "    if file_exists == True:\n",
    "        \n",
    "        ## Check if user wants to delete if exists\n",
    "        if delete_if_exists==True:\n",
    "            \n",
    "            print(f\"[!] {JSON_FILE} already exists. Deleting previous file...\")\n",
    "            ## delete file and confirm it no longer exits.\n",
    "            os.remove(JSON_FILE)\n",
    "        else:\n",
    "            print(f\"[i] {JSON_FILE} already exists.\")            \n",
    "            \n",
    "            \n",
    "    ## If it does NOT exist:\n",
    "    else:\n",
    "        \n",
    "        ## INFORM USER AND SAVE EMPTY LIST\n",
    "        print(f\"[i] {JSON_FILE} not found. Saving empty list to new file.\")\n",
    "        \n",
    "        ## CREATE ANY NEEDED FOLDERS\n",
    "        # Get the Folder Name only\n",
    "        folder = os.path.dirname(JSON_FILE)\n",
    "        \n",
    "        ## If JSON_FILE included a folder:\n",
    "        if len(folder)>0:\n",
    "            # create the folder\n",
    "            os.makedirs(folder,exist_ok=True)\n",
    "        ## Save empty list to start the json file\n",
    "        with open(JSON_FILE,'w') as f:\n",
    "            json.dump([],f)  "
   ]
  },
  {
   "cell_type": "code",
   "execution_count": 17,
   "id": "36c812ae",
   "metadata": {},
   "outputs": [
    {
     "name": "stdout",
     "output_type": "stream",
     "text": [
      "[i] Data/results_in_progress_NY_pizza.json not found. Saving empty list to new file.\n",
      "- 0 previous results found.\n"
     ]
    },
    {
     "data": {
      "text/plain": [
       "360"
      ]
     },
     "execution_count": 17,
     "metadata": {},
     "output_type": "execute_result"
    }
   ],
   "source": [
    "## Create a new empty json file (exist the previous if it exists)\n",
    "create_json_file(JSON_FILE, delete_if_exists=True)\n",
    "## Load previous results and use len of results for offset\n",
    "with open(JSON_FILE,'r') as f:\n",
    "    previous_results = json.load(f)\n",
    "    \n",
    "## set offset based on previous results\n",
    "n_results = len(previous_results)\n",
    "print(f'- {n_results} previous results found.')\n",
    "# use our yelp_api variable's search_query method to perform our API call\n",
    "results = yelp_api.search_query(location=LOCATION,\n",
    "                                term=TERM,\n",
    "                               offset=n_results)\n",
    "## How many results total?\n",
    "total_results = results['total']\n",
    "## How many did we get the details for?\n",
    "results_per_page = len(results['businesses'])\n",
    "# Use math.ceil to round up for the total number of pages of results.\n",
    "n_pages = math.ceil((results['total']-n_results)/ results_per_page)\n",
    "n_pages"
   ]
  },
  {
   "cell_type": "code",
   "execution_count": 18,
   "id": "57cd6d9f",
   "metadata": {},
   "outputs": [
    {
     "data": {
      "application/vnd.jupyter.widget-view+json": {
       "model_id": "3dc147d1a90c4182abc42d81e4a66c4d",
       "version_major": 2,
       "version_minor": 0
      },
      "text/plain": [
       "  0%|          | 0/360 [00:00<?, ?it/s]"
      ]
     },
     "metadata": {},
     "output_type": "display_data"
    },
    {
     "name": "stdout",
     "output_type": "stream",
     "text": [
      "Exceeded 1000 api calls. Stopping loop.\n"
     ]
    }
   ],
   "source": [
    "for i in tqdm_notebook( range(1,n_pages+1)):\n",
    "    \n",
    "    ## Read in results in progress file and check the length\n",
    "    with open(JSON_FILE, 'r') as f:\n",
    "        previous_results = json.load(f)\n",
    "    ## save number of results for to use as offset\n",
    "    n_results = len(previous_results)\n",
    "    \n",
    "    if (n_results + results_per_page) > 1000:\n",
    "        print('Exceeded 1000 api calls. Stopping loop.')\n",
    "        break\n",
    "    \n",
    "    ## use n_results as the OFFSET \n",
    "    results = yelp_api.search_query(location=LOCATION,\n",
    "                                    term=TERM, \n",
    "                                    offset=n_results)\n",
    "    \n",
    "    \n",
    "    \n",
    "    ## append new results and save to file\n",
    "    previous_results.extend(results['businesses'])\n",
    "    \n",
    "    # display(previous_results)\n",
    "    with open(JSON_FILE,'w') as f:\n",
    "        json.dump(previous_results,f)\n",
    "    \n",
    "    time.sleep(.2)"
   ]
  },
  {
   "cell_type": "code",
   "execution_count": 19,
   "id": "cc13a3ec",
   "metadata": {},
   "outputs": [
    {
     "data": {
      "text/html": [
       "<div>\n",
       "<style scoped>\n",
       "    .dataframe tbody tr th:only-of-type {\n",
       "        vertical-align: middle;\n",
       "    }\n",
       "\n",
       "    .dataframe tbody tr th {\n",
       "        vertical-align: top;\n",
       "    }\n",
       "\n",
       "    .dataframe thead th {\n",
       "        text-align: right;\n",
       "    }\n",
       "</style>\n",
       "<table border=\"1\" class=\"dataframe\">\n",
       "  <thead>\n",
       "    <tr style=\"text-align: right;\">\n",
       "      <th></th>\n",
       "      <th>id</th>\n",
       "      <th>alias</th>\n",
       "      <th>name</th>\n",
       "      <th>image_url</th>\n",
       "      <th>is_closed</th>\n",
       "      <th>url</th>\n",
       "      <th>review_count</th>\n",
       "      <th>categories</th>\n",
       "      <th>rating</th>\n",
       "      <th>coordinates</th>\n",
       "      <th>transactions</th>\n",
       "      <th>price</th>\n",
       "      <th>location</th>\n",
       "      <th>phone</th>\n",
       "      <th>display_phone</th>\n",
       "      <th>distance</th>\n",
       "    </tr>\n",
       "  </thead>\n",
       "  <tbody>\n",
       "    <tr>\n",
       "      <th>0</th>\n",
       "      <td>PBsVApRd0dHVjWgiGZgcRQ</td>\n",
       "      <td>louie-and-ernies-pizza-bronx-2</td>\n",
       "      <td>Louie &amp; Ernie's Pizza</td>\n",
       "      <td>https://s3-media3.fl.yelpcdn.com/bphoto/R-p0EL...</td>\n",
       "      <td>False</td>\n",
       "      <td>https://www.yelp.com/biz/louie-and-ernies-pizz...</td>\n",
       "      <td>354</td>\n",
       "      <td>[{'alias': 'pizza', 'title': 'Pizza'}]</td>\n",
       "      <td>4.5</td>\n",
       "      <td>{'latitude': 40.838288, 'longitude': -73.828563}</td>\n",
       "      <td>[delivery, pickup]</td>\n",
       "      <td>$</td>\n",
       "      <td>{'address1': '1300 Crosby Ave', 'address2': ''...</td>\n",
       "      <td>+17188296230</td>\n",
       "      <td>(718) 829-6230</td>\n",
       "      <td>3915.849575</td>\n",
       "    </tr>\n",
       "    <tr>\n",
       "      <th>1</th>\n",
       "      <td>b6jOwyX4iaagw8YjXqq1sA</td>\n",
       "      <td>antonios-trattoria-bronx</td>\n",
       "      <td>Antonio's Trattoria</td>\n",
       "      <td>https://s3-media3.fl.yelpcdn.com/bphoto/2JkIBH...</td>\n",
       "      <td>False</td>\n",
       "      <td>https://www.yelp.com/biz/antonios-trattoria-br...</td>\n",
       "      <td>957</td>\n",
       "      <td>[{'alias': 'italian', 'title': 'Italian'}, {'a...</td>\n",
       "      <td>4.5</td>\n",
       "      <td>{'latitude': 40.854131, 'longitude': -73.886601}</td>\n",
       "      <td>[delivery, pickup]</td>\n",
       "      <td>$$</td>\n",
       "      <td>{'address1': '2370 Belmont Ave', 'address2': N...</td>\n",
       "      <td>+17187336630</td>\n",
       "      <td>(718) 733-6630</td>\n",
       "      <td>1297.605191</td>\n",
       "    </tr>\n",
       "    <tr>\n",
       "      <th>2</th>\n",
       "      <td>ZIdfJ9a-tfo1LDhqp9w6TA</td>\n",
       "      <td>franks-pizzeria-bronx</td>\n",
       "      <td>Frank's Pizzeria</td>\n",
       "      <td>https://s3-media3.fl.yelpcdn.com/bphoto/FZAbj8...</td>\n",
       "      <td>False</td>\n",
       "      <td>https://www.yelp.com/biz/franks-pizzeria-bronx...</td>\n",
       "      <td>114</td>\n",
       "      <td>[{'alias': 'pizza', 'title': 'Pizza'}, {'alias...</td>\n",
       "      <td>4.5</td>\n",
       "      <td>{'latitude': 40.8435944773229, 'longitude': -7...</td>\n",
       "      <td>[delivery, pickup]</td>\n",
       "      <td>$</td>\n",
       "      <td>{'address1': '2823 Middletown Rd', 'address2':...</td>\n",
       "      <td>+17185973333</td>\n",
       "      <td>(718) 597-3333</td>\n",
       "      <td>3129.337817</td>\n",
       "    </tr>\n",
       "    <tr>\n",
       "      <th>3</th>\n",
       "      <td>HaXbpA8etMMiqqFNYoltTg</td>\n",
       "      <td>pugsleys-pizza-bronx</td>\n",
       "      <td>Pugsley's Pizza</td>\n",
       "      <td>https://s3-media3.fl.yelpcdn.com/bphoto/kKjMII...</td>\n",
       "      <td>False</td>\n",
       "      <td>https://www.yelp.com/biz/pugsleys-pizza-bronx?...</td>\n",
       "      <td>176</td>\n",
       "      <td>[{'alias': 'pizza', 'title': 'Pizza'}]</td>\n",
       "      <td>4.5</td>\n",
       "      <td>{'latitude': 40.85881, 'longitude': -73.88475}</td>\n",
       "      <td>[delivery, pickup]</td>\n",
       "      <td>$</td>\n",
       "      <td>{'address1': '590 E 191st St', 'address2': '',...</td>\n",
       "      <td>+17183650327</td>\n",
       "      <td>(718) 365-0327</td>\n",
       "      <td>1346.294930</td>\n",
       "    </tr>\n",
       "    <tr>\n",
       "      <th>4</th>\n",
       "      <td>2tPFIQsuvcS-T0r7NtaKAg</td>\n",
       "      <td>john-and-joes-pizzeria-bronx</td>\n",
       "      <td>John &amp; Joe's Pizzeria</td>\n",
       "      <td>https://s3-media3.fl.yelpcdn.com/bphoto/aOGdSb...</td>\n",
       "      <td>False</td>\n",
       "      <td>https://www.yelp.com/biz/john-and-joes-pizzeri...</td>\n",
       "      <td>190</td>\n",
       "      <td>[{'alias': 'pizza', 'title': 'Pizza'}]</td>\n",
       "      <td>4.0</td>\n",
       "      <td>{'latitude': 40.8545949, 'longitude': -73.86578}</td>\n",
       "      <td>[delivery]</td>\n",
       "      <td>$</td>\n",
       "      <td>{'address1': '749 Lydig Ave', 'address2': None...</td>\n",
       "      <td>+17184099776</td>\n",
       "      <td>(718) 409-9776</td>\n",
       "      <td>531.728124</td>\n",
       "    </tr>\n",
       "  </tbody>\n",
       "</table>\n",
       "</div>"
      ],
      "text/plain": [
       "                       id                           alias  \\\n",
       "0  PBsVApRd0dHVjWgiGZgcRQ  louie-and-ernies-pizza-bronx-2   \n",
       "1  b6jOwyX4iaagw8YjXqq1sA        antonios-trattoria-bronx   \n",
       "2  ZIdfJ9a-tfo1LDhqp9w6TA           franks-pizzeria-bronx   \n",
       "3  HaXbpA8etMMiqqFNYoltTg            pugsleys-pizza-bronx   \n",
       "4  2tPFIQsuvcS-T0r7NtaKAg    john-and-joes-pizzeria-bronx   \n",
       "\n",
       "                    name                                          image_url  \\\n",
       "0  Louie & Ernie's Pizza  https://s3-media3.fl.yelpcdn.com/bphoto/R-p0EL...   \n",
       "1    Antonio's Trattoria  https://s3-media3.fl.yelpcdn.com/bphoto/2JkIBH...   \n",
       "2       Frank's Pizzeria  https://s3-media3.fl.yelpcdn.com/bphoto/FZAbj8...   \n",
       "3        Pugsley's Pizza  https://s3-media3.fl.yelpcdn.com/bphoto/kKjMII...   \n",
       "4  John & Joe's Pizzeria  https://s3-media3.fl.yelpcdn.com/bphoto/aOGdSb...   \n",
       "\n",
       "   is_closed                                                url  review_count  \\\n",
       "0      False  https://www.yelp.com/biz/louie-and-ernies-pizz...           354   \n",
       "1      False  https://www.yelp.com/biz/antonios-trattoria-br...           957   \n",
       "2      False  https://www.yelp.com/biz/franks-pizzeria-bronx...           114   \n",
       "3      False  https://www.yelp.com/biz/pugsleys-pizza-bronx?...           176   \n",
       "4      False  https://www.yelp.com/biz/john-and-joes-pizzeri...           190   \n",
       "\n",
       "                                          categories  rating  \\\n",
       "0             [{'alias': 'pizza', 'title': 'Pizza'}]     4.5   \n",
       "1  [{'alias': 'italian', 'title': 'Italian'}, {'a...     4.5   \n",
       "2  [{'alias': 'pizza', 'title': 'Pizza'}, {'alias...     4.5   \n",
       "3             [{'alias': 'pizza', 'title': 'Pizza'}]     4.5   \n",
       "4             [{'alias': 'pizza', 'title': 'Pizza'}]     4.0   \n",
       "\n",
       "                                         coordinates        transactions  \\\n",
       "0   {'latitude': 40.838288, 'longitude': -73.828563}  [delivery, pickup]   \n",
       "1   {'latitude': 40.854131, 'longitude': -73.886601}  [delivery, pickup]   \n",
       "2  {'latitude': 40.8435944773229, 'longitude': -7...  [delivery, pickup]   \n",
       "3     {'latitude': 40.85881, 'longitude': -73.88475}  [delivery, pickup]   \n",
       "4   {'latitude': 40.8545949, 'longitude': -73.86578}          [delivery]   \n",
       "\n",
       "  price                                           location         phone  \\\n",
       "0     $  {'address1': '1300 Crosby Ave', 'address2': ''...  +17188296230   \n",
       "1    $$  {'address1': '2370 Belmont Ave', 'address2': N...  +17187336630   \n",
       "2     $  {'address1': '2823 Middletown Rd', 'address2':...  +17185973333   \n",
       "3     $  {'address1': '590 E 191st St', 'address2': '',...  +17183650327   \n",
       "4     $  {'address1': '749 Lydig Ave', 'address2': None...  +17184099776   \n",
       "\n",
       "    display_phone     distance  \n",
       "0  (718) 829-6230  3915.849575  \n",
       "1  (718) 733-6630  1297.605191  \n",
       "2  (718) 597-3333  3129.337817  \n",
       "3  (718) 365-0327  1346.294930  \n",
       "4  (718) 409-9776   531.728124  "
      ]
     },
     "metadata": {},
     "output_type": "display_data"
    },
    {
     "data": {
      "text/html": [
       "<div>\n",
       "<style scoped>\n",
       "    .dataframe tbody tr th:only-of-type {\n",
       "        vertical-align: middle;\n",
       "    }\n",
       "\n",
       "    .dataframe tbody tr th {\n",
       "        vertical-align: top;\n",
       "    }\n",
       "\n",
       "    .dataframe thead th {\n",
       "        text-align: right;\n",
       "    }\n",
       "</style>\n",
       "<table border=\"1\" class=\"dataframe\">\n",
       "  <thead>\n",
       "    <tr style=\"text-align: right;\">\n",
       "      <th></th>\n",
       "      <th>id</th>\n",
       "      <th>alias</th>\n",
       "      <th>name</th>\n",
       "      <th>image_url</th>\n",
       "      <th>is_closed</th>\n",
       "      <th>url</th>\n",
       "      <th>review_count</th>\n",
       "      <th>categories</th>\n",
       "      <th>rating</th>\n",
       "      <th>coordinates</th>\n",
       "      <th>transactions</th>\n",
       "      <th>price</th>\n",
       "      <th>location</th>\n",
       "      <th>phone</th>\n",
       "      <th>display_phone</th>\n",
       "      <th>distance</th>\n",
       "    </tr>\n",
       "  </thead>\n",
       "  <tbody>\n",
       "    <tr>\n",
       "      <th>995</th>\n",
       "      <td>x3WAQIO7dPSnHUeUpFTSlQ</td>\n",
       "      <td>napoli-pizzeria-and-restaurant-fresh-meadows</td>\n",
       "      <td>Napoli Pizzeria &amp; Restaurant</td>\n",
       "      <td>https://s3-media2.fl.yelpcdn.com/bphoto/50Z6ZS...</td>\n",
       "      <td>False</td>\n",
       "      <td>https://www.yelp.com/biz/napoli-pizzeria-and-r...</td>\n",
       "      <td>154</td>\n",
       "      <td>[{'alias': 'pizza', 'title': 'Pizza'}]</td>\n",
       "      <td>3.5</td>\n",
       "      <td>{'latitude': 40.7329651024261, 'longitude': -7...</td>\n",
       "      <td>[delivery, pickup]</td>\n",
       "      <td>$</td>\n",
       "      <td>{'address1': '16402 69th Ave', 'address2': '',...</td>\n",
       "      <td>+17183801172</td>\n",
       "      <td>(718) 380-1172</td>\n",
       "      <td>14397.883469</td>\n",
       "    </tr>\n",
       "    <tr>\n",
       "      <th>996</th>\n",
       "      <td>xluTHx9XUeoAa5cIJdKKOQ</td>\n",
       "      <td>taste-of-italy-pizzeria-jackson-heights-2</td>\n",
       "      <td>Taste of Italy Pizzeria</td>\n",
       "      <td>https://s3-media1.fl.yelpcdn.com/bphoto/jRhE3o...</td>\n",
       "      <td>False</td>\n",
       "      <td>https://www.yelp.com/biz/taste-of-italy-pizzer...</td>\n",
       "      <td>32</td>\n",
       "      <td>[{'alias': 'pizza', 'title': 'Pizza'}]</td>\n",
       "      <td>3.0</td>\n",
       "      <td>{'latitude': 40.7486016731124, 'longitude': -7...</td>\n",
       "      <td>[delivery, pickup]</td>\n",
       "      <td>$</td>\n",
       "      <td>{'address1': '37-72 90th St', 'address2': '', ...</td>\n",
       "      <td>+17185052600</td>\n",
       "      <td>(718) 505-2600</td>\n",
       "      <td>11528.867654</td>\n",
       "    </tr>\n",
       "    <tr>\n",
       "      <th>997</th>\n",
       "      <td>zHP6JuFIj6lykn0buQTCeQ</td>\n",
       "      <td>midland-on-kimball-pizzeria-yonkers</td>\n",
       "      <td>Midland On Kimball Pizzeria</td>\n",
       "      <td>https://s3-media2.fl.yelpcdn.com/bphoto/cDhJ6R...</td>\n",
       "      <td>False</td>\n",
       "      <td>https://www.yelp.com/biz/midland-on-kimball-pi...</td>\n",
       "      <td>9</td>\n",
       "      <td>[{'alias': 'pizza', 'title': 'Pizza'}]</td>\n",
       "      <td>4.0</td>\n",
       "      <td>{'latitude': 40.92025032168667, 'longitude': -...</td>\n",
       "      <td>[delivery, pickup]</td>\n",
       "      <td>NaN</td>\n",
       "      <td>{'address1': '558 Kimball Ave', 'address2': ''...</td>\n",
       "      <td>+19144574560</td>\n",
       "      <td>(914) 457-4560</td>\n",
       "      <td>7706.926450</td>\n",
       "    </tr>\n",
       "    <tr>\n",
       "      <th>998</th>\n",
       "      <td>v2RkWChvH9sLZYUijLI3zQ</td>\n",
       "      <td>national-restaurant-and-coffee-shop-bronx</td>\n",
       "      <td>National Restaurant &amp; Coffee Shop</td>\n",
       "      <td>https://s3-media3.fl.yelpcdn.com/bphoto/QzDLsE...</td>\n",
       "      <td>False</td>\n",
       "      <td>https://www.yelp.com/biz/national-restaurant-a...</td>\n",
       "      <td>73</td>\n",
       "      <td>[{'alias': 'diners', 'title': 'Diners'}, {'ali...</td>\n",
       "      <td>4.0</td>\n",
       "      <td>{'latitude': 40.8729995, 'longitude': -73.8891...</td>\n",
       "      <td>[delivery, pickup]</td>\n",
       "      <td>$</td>\n",
       "      <td>{'address1': '8 Bedford Park Blvd E', 'address...</td>\n",
       "      <td>+17183655515</td>\n",
       "      <td>(718) 365-5515</td>\n",
       "      <td>2730.406208</td>\n",
       "    </tr>\n",
       "    <tr>\n",
       "      <th>999</th>\n",
       "      <td>-KCs1dphF0hNmHfO299S9g</td>\n",
       "      <td>nino-s-beach-port-washington</td>\n",
       "      <td>Nino’s Beach</td>\n",
       "      <td>https://s3-media1.fl.yelpcdn.com/bphoto/CoV7vP...</td>\n",
       "      <td>False</td>\n",
       "      <td>https://www.yelp.com/biz/nino-s-beach-port-was...</td>\n",
       "      <td>50</td>\n",
       "      <td>[{'alias': 'wine_bars', 'title': 'Wine Bars'},...</td>\n",
       "      <td>3.5</td>\n",
       "      <td>{'latitude': 40.83733341591415, 'longitude': -...</td>\n",
       "      <td>[]</td>\n",
       "      <td>NaN</td>\n",
       "      <td>{'address1': '43 Orchard Beach Blvd', 'address...</td>\n",
       "      <td>+15165020441</td>\n",
       "      <td>(516) 502-0441</td>\n",
       "      <td>13003.277351</td>\n",
       "    </tr>\n",
       "  </tbody>\n",
       "</table>\n",
       "</div>"
      ],
      "text/plain": [
       "                         id                                         alias  \\\n",
       "995  x3WAQIO7dPSnHUeUpFTSlQ  napoli-pizzeria-and-restaurant-fresh-meadows   \n",
       "996  xluTHx9XUeoAa5cIJdKKOQ     taste-of-italy-pizzeria-jackson-heights-2   \n",
       "997  zHP6JuFIj6lykn0buQTCeQ           midland-on-kimball-pizzeria-yonkers   \n",
       "998  v2RkWChvH9sLZYUijLI3zQ     national-restaurant-and-coffee-shop-bronx   \n",
       "999  -KCs1dphF0hNmHfO299S9g                  nino-s-beach-port-washington   \n",
       "\n",
       "                                  name  \\\n",
       "995       Napoli Pizzeria & Restaurant   \n",
       "996            Taste of Italy Pizzeria   \n",
       "997        Midland On Kimball Pizzeria   \n",
       "998  National Restaurant & Coffee Shop   \n",
       "999                       Nino’s Beach   \n",
       "\n",
       "                                             image_url  is_closed  \\\n",
       "995  https://s3-media2.fl.yelpcdn.com/bphoto/50Z6ZS...      False   \n",
       "996  https://s3-media1.fl.yelpcdn.com/bphoto/jRhE3o...      False   \n",
       "997  https://s3-media2.fl.yelpcdn.com/bphoto/cDhJ6R...      False   \n",
       "998  https://s3-media3.fl.yelpcdn.com/bphoto/QzDLsE...      False   \n",
       "999  https://s3-media1.fl.yelpcdn.com/bphoto/CoV7vP...      False   \n",
       "\n",
       "                                                   url  review_count  \\\n",
       "995  https://www.yelp.com/biz/napoli-pizzeria-and-r...           154   \n",
       "996  https://www.yelp.com/biz/taste-of-italy-pizzer...            32   \n",
       "997  https://www.yelp.com/biz/midland-on-kimball-pi...             9   \n",
       "998  https://www.yelp.com/biz/national-restaurant-a...            73   \n",
       "999  https://www.yelp.com/biz/nino-s-beach-port-was...            50   \n",
       "\n",
       "                                            categories  rating  \\\n",
       "995             [{'alias': 'pizza', 'title': 'Pizza'}]     3.5   \n",
       "996             [{'alias': 'pizza', 'title': 'Pizza'}]     3.0   \n",
       "997             [{'alias': 'pizza', 'title': 'Pizza'}]     4.0   \n",
       "998  [{'alias': 'diners', 'title': 'Diners'}, {'ali...     4.0   \n",
       "999  [{'alias': 'wine_bars', 'title': 'Wine Bars'},...     3.5   \n",
       "\n",
       "                                           coordinates        transactions  \\\n",
       "995  {'latitude': 40.7329651024261, 'longitude': -7...  [delivery, pickup]   \n",
       "996  {'latitude': 40.7486016731124, 'longitude': -7...  [delivery, pickup]   \n",
       "997  {'latitude': 40.92025032168667, 'longitude': -...  [delivery, pickup]   \n",
       "998  {'latitude': 40.8729995, 'longitude': -73.8891...  [delivery, pickup]   \n",
       "999  {'latitude': 40.83733341591415, 'longitude': -...                  []   \n",
       "\n",
       "    price                                           location         phone  \\\n",
       "995     $  {'address1': '16402 69th Ave', 'address2': '',...  +17183801172   \n",
       "996     $  {'address1': '37-72 90th St', 'address2': '', ...  +17185052600   \n",
       "997   NaN  {'address1': '558 Kimball Ave', 'address2': ''...  +19144574560   \n",
       "998     $  {'address1': '8 Bedford Park Blvd E', 'address...  +17183655515   \n",
       "999   NaN  {'address1': '43 Orchard Beach Blvd', 'address...  +15165020441   \n",
       "\n",
       "      display_phone      distance  \n",
       "995  (718) 380-1172  14397.883469  \n",
       "996  (718) 505-2600  11528.867654  \n",
       "997  (914) 457-4560   7706.926450  \n",
       "998  (718) 365-5515   2730.406208  \n",
       "999  (516) 502-0441  13003.277351  "
      ]
     },
     "metadata": {},
     "output_type": "display_data"
    }
   ],
   "source": [
    "# load final results\n",
    "final_df = pd.read_json(JSON_FILE)\n",
    "display(final_df.head(), final_df.tail())"
   ]
  },
  {
   "cell_type": "code",
   "execution_count": 21,
   "id": "94318dbc",
   "metadata": {},
   "outputs": [
    {
     "data": {
      "text/plain": [
       "55"
      ]
     },
     "execution_count": 21,
     "metadata": {},
     "output_type": "execute_result"
    }
   ],
   "source": [
    "# check for duplicate ID's \n",
    "final_df.duplicated(subset='id').sum()"
   ]
  },
  {
   "cell_type": "code",
   "execution_count": 22,
   "id": "fa480f19",
   "metadata": {},
   "outputs": [
    {
     "data": {
      "text/plain": [
       "0"
      ]
     },
     "execution_count": 22,
     "metadata": {},
     "output_type": "execute_result"
    }
   ],
   "source": [
    "## Drop duplicate ids and confirm there are no more duplicates\n",
    "final_df = final_df.drop_duplicates(subset='id')\n",
    "final_df.duplicated(subset='id').sum()"
   ]
  },
  {
   "cell_type": "code",
   "execution_count": 23,
   "id": "edfdadc3",
   "metadata": {},
   "outputs": [],
   "source": [
    "# save the final results to a compressed csv\n",
    "final_df.to_csv('Data/final_results_NY_pizza.csv.gz', compression='gzip',index=False)"
   ]
  },
  {
   "cell_type": "code",
   "execution_count": null,
   "id": "e8e10037",
   "metadata": {},
   "outputs": [],
   "source": []
  }
 ],
 "metadata": {
  "kernelspec": {
   "display_name": "Python (dojo-env)",
   "language": "python",
   "name": "dojo-env"
  },
  "language_info": {
   "codemirror_mode": {
    "name": "ipython",
    "version": 3
   },
   "file_extension": ".py",
   "mimetype": "text/x-python",
   "name": "python",
   "nbconvert_exporter": "python",
   "pygments_lexer": "ipython3",
   "version": "3.8.13"
  },
  "toc": {
   "base_numbering": 1,
   "nav_menu": {},
   "number_sections": true,
   "sideBar": true,
   "skip_h1_title": false,
   "title_cell": "Table of Contents",
   "title_sidebar": "Contents",
   "toc_cell": false,
   "toc_position": {},
   "toc_section_display": true,
   "toc_window_display": false
  }
 },
 "nbformat": 4,
 "nbformat_minor": 5
}
